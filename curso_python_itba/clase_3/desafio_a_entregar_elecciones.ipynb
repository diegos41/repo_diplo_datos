{
 "cells": [
  {
   "cell_type": "code",
   "execution_count": 20,
   "id": "86b8d2dc",
   "metadata": {
    "scrolled": true
   },
   "outputs": [
    {
     "name": "stdout",
     "output_type": "stream",
     "text": [
      "Contador de votos.\n",
      "Ingrese la cantidad total de votos efectuados: 12\n",
      "Ingrese un candidato: Mickey\n",
      "Ingrese un candidato: Donald\n",
      "Ingrese un candidato: Mickey\n",
      "Ingrese un candidato: Minnie\n",
      "Ingrese un candidato: Mickey\n",
      "Ingrese un candidato: Goofy\n",
      "Ingrese un candidato: Daisy\n",
      "Ingrese un candidato: Goofy\n",
      "Ingrese un candidato: Goofy\n",
      "Ingrese un candidato: Minnie\n",
      "Ingrese un candidato: Goofy\n",
      "Ingrese un candidato: Donald\n",
      "El ganador es Goofy con un total de 4 votos.\n"
     ]
    }
   ],
   "source": [
    "print('Contador de votos.')\n",
    "\n",
    "cant_votos = int(input('Ingrese la cantidad total de votos efectuados: '))\n",
    "\n",
    "dic_candidatos = {}\n",
    "dic_resultado = {}\n",
    "lista_cantidad = []\n",
    "\n",
    "for i in range (cant_votos):\n",
    "    candidato = input('Ingrese un candidato: ')\n",
    "    dic_candidatos[candidato] = dic_candidatos.get(candidato,0)+1\n",
    "\n",
    "#print(dic_candidatos)\n",
    "\n",
    "for k,c in dic_candidatos.items():\n",
    "    dic_resultado[c] = k\n",
    "    \n",
    "#print(dic_resultado)\n",
    "\n",
    "for clave in dic_resultado:\n",
    "    lista_cantidad.append(clave)\n",
    "\n",
    "\n",
    "print(f\"El ganador es {dic_resultado[max(lista_cantidad)]} con un total de {max(lista_cantidad)} votos.\")\n"
   ]
  }
 ],
 "metadata": {
  "kernelspec": {
   "display_name": "Python 3 (ipykernel)",
   "language": "python",
   "name": "python3"
  },
  "language_info": {
   "codemirror_mode": {
    "name": "ipython",
    "version": 3
   },
   "file_extension": ".py",
   "mimetype": "text/x-python",
   "name": "python",
   "nbconvert_exporter": "python",
   "pygments_lexer": "ipython3",
   "version": "3.11.1"
  }
 },
 "nbformat": 4,
 "nbformat_minor": 5
}
