{
 "cells": [
  {
   "cell_type": "code",
   "execution_count": 12,
   "id": "0575e120",
   "metadata": {},
   "outputs": [
    {
     "name": "stdout",
     "output_type": "stream",
     "text": [
      "Nombre completo del legajo 50002 : Matías Perez\n"
     ]
    }
   ],
   "source": [
    "#PARTE I: probando cosas\n",
    "database = {\n",
    "    50001:\"Karen Fernandez\",\n",
    "    50002:\"Matías Perez\",\n",
    "    50003:\"Julieta Gonzalez\"\n",
    "}\n",
    "print(\"Nombre completo del legajo\", 50002, \":\", database[50002])"
   ]
  },
  {
   "cell_type": "code",
   "execution_count": 6,
   "id": "99147b5b",
   "metadata": {},
   "outputs": [
    {
     "name": "stdout",
     "output_type": "stream",
     "text": [
      "key: 50001  content:  Karen Fernandez\n",
      "key: 50002  content:  Matías Perez\n",
      "key: 50003  content:  Julieta Gonzalez\n"
     ]
    }
   ],
   "source": [
    "database = {\n",
    "    50001:\"Karen Fernandez\",\n",
    "    50002:\"Matías Perez\",\n",
    "    50003:\"Julieta Gonzalez\"\n",
    "}\n",
    "\n",
    "#print(database.items())           # ---> Imprime una lista con tuplas\n",
    "\n",
    "for k,c in database.items():\n",
    "    print(\"key:\", k,\" content: \",c)\n",
    "\n",
    "# for item in database.items():\n",
    "#     print(\"key:\", item[0],\" content: \",item[1])"
   ]
  },
  {
   "cell_type": "code",
   "execution_count": 7,
   "id": "cab29754",
   "metadata": {
    "collapsed": true
   },
   "outputs": [
    {
     "name": "stdout",
     "output_type": "stream",
     "text": [
      "La letra L aparece 21 vez/veces.\n",
      "La letra O aparece 25 vez/veces.\n",
      "La letra R aparece 20 vez/veces.\n",
      "La letra E aparece 38 vez/veces.\n",
      "La letra M aparece 17 vez/veces.\n",
      "La letra I aparece 42 vez/veces.\n",
      "La letra P aparece 10 vez/veces.\n",
      "La letra S aparece 18 vez/veces.\n",
      "La letra U aparece 29 vez/veces.\n",
      "La letra D aparece 16 vez/veces.\n",
      "La letra T aparece 32 vez/veces.\n",
      "La letra A aparece 28 vez/veces.\n",
      "La letra C aparece 15 vez/veces.\n",
      "La letra N aparece 23 vez/veces.\n",
      "La letra G aparece 3 vez/veces.\n",
      "La letra B aparece 4 vez/veces.\n",
      "La letra Q aparece 6 vez/veces.\n",
      "La letra V aparece 3 vez/veces.\n",
      "La letra X aparece 3 vez/veces.\n",
      "La letra H aparece 1 vez/veces.\n",
      "La letra F aparece 3 vez/veces.\n"
     ]
    }
   ],
   "source": [
    "texto = \"lorem ipsum dolor sit amet, consectetur adipiscing elit, sed eiusmod \\\n",
    "tempor incidunt ut labore et dolore magna aliqua. Ut enim ad minim veniam, \\\n",
    "quis nostrud exercitation ullamco laboris nisi ut aliquid ex ea commodi \\\n",
    "consequat. Quis aute iure reprehenderit in voluptate velit esse cillum dolore \\\n",
    "eu fugiat nulla pariatur. Excepteur sint obcaecat cupiditat non proident, sunt \\\n",
    "in culpa qui officia deserunt mollit anim id est laborum.\"\n",
    "\n",
    "ocurrencias = {}\n",
    "for letra in texto:\n",
    "  if letra.isalpha(): # Solo importan letras, no comas, puntos, espacios, etc.\n",
    "    letra = letra.upper() # No nos importa si es minúscula o mayúscula\n",
    "    # Suma 1 a las ocurrencias de 'letra', o inicializa el elemento\n",
    "    ocurrencias[letra] = ocurrencias.get(letra, 0) + 1\n",
    "\n",
    "# De esta forma averiguamos la cantidad de ocurrencias de cada letra.\n",
    "for k,c in ocurrencias.items():\n",
    "    print(\"La letra\", k, \"aparece\", c, \"vez/veces.\")"
   ]
  },
  {
   "cell_type": "code",
   "execution_count": 1,
   "id": "fc1537b9",
   "metadata": {},
   "outputs": [
    {
     "name": "stdout",
     "output_type": "stream",
     "text": [
      "{}\n"
     ]
    }
   ],
   "source": [
    "# DESAFÍO 1\n",
    "dic = {}\n",
    "\n",
    "print(dic)"
   ]
  },
  {
   "cell_type": "code",
   "execution_count": 2,
   "id": "5dd8e72e",
   "metadata": {},
   "outputs": [
    {
     "name": "stdout",
     "output_type": "stream",
     "text": [
      "Ingrese el número de legajo: 5000\n",
      "Ingrese el nombre completo : Laura Pérez\n",
      "Se agregó: \"5000\" : \"Laura Pérez\"\n"
     ]
    }
   ],
   "source": [
    "legajo = int(input('Ingrese el número de legajo: '))\n",
    "\n",
    "if legajo in dic:\n",
    "    print(f'El legajo ya se encuentra registrado con el nombre \"{dic.get(legajo)}\"')\n",
    "else:\n",
    "    nombre = input('Ingrese el nombre completo : ')\n",
    "    dic [legajo] = nombre\n",
    "    print(f'Se agregó: \"{legajo}\" : \"{nombre}\"')"
   ]
  },
  {
   "cell_type": "code",
   "execution_count": 67,
   "id": "dc1e283e",
   "metadata": {
    "scrolled": true
   },
   "outputs": [
    {
     "name": "stdout",
     "output_type": "stream",
     "text": [
      "Ingrese la palabra en código morse que desea decriptar: .--. .-. --- --. .-. .- -- .- -.-. .. --- -.\n",
      "['.--.', '.-.', '---', '--.', '.-.', '.-', '--', '.-', '-.-.', '..', '---', '-.']\n",
      "['P', 'R', 'O', 'G', 'R', 'A', 'M', 'A', 'C', 'I', 'O', 'N']\n",
      "PROGRAMACION\n"
     ]
    }
   ],
   "source": [
    "# DESAFÍO 2\n",
    "#Solución más larga, pero más general.\n",
    "\n",
    "morse_dic = {'.-': 'A', '-...': 'B', '-.-.': 'C', '-..': 'D', '.': 'E', \n",
    "             '..-.': 'F', '--.': 'G', '....': 'H', '..': 'I', '.---': 'J', \n",
    "             '-.-': 'K', '.-..': 'L', '--': 'M', '-.': 'N', '---': 'O', \n",
    "             '.--.': 'P', '--.-': 'Q', '.-.': 'R', '...': 'S', '-': 'T', \n",
    "             '..-': 'U', '...-': 'V', '.--': 'W', '-..-': 'X', '-.--': 'Y', \n",
    "             '--..': 'Z', \"— — — — —\" : \"0\", \"· — — — —\" : \"1\",\"· · — — —\" : \"2\",\n",
    "             \"· · · — —\" : \"3\",\"· · · · —\" : \"4\",\"· · · · ·\" : \"5\",\"— · · · ·\" : \"6\",\n",
    "             \"— — · · ·\" : \"7\",\"— — — · ·\" : \"8\",\"— — — — ·\" : \"9\",\"· — · — · —\" : \".\", \n",
    "             \"— — · · — —\" : \",\", \"· · — — · ·\" : \"?\", \"· — · · — ·\" : \" \\\" \" , \"— · · — ·\" : \"/\"} \n",
    "\n",
    "#used an escape sequence \"\\\" for defining the double inverted comma.\n",
    "\n",
    "encripted_w = input(\"Ingrese la palabra en código morse que desea desencriptar: \")\n",
    "\n",
    "lista_letras = []\n",
    "builder= ''\n",
    "counter=0\n",
    "\n",
    "for caracter in encripted_w:\n",
    "    counter+=1\n",
    "    builder += caracter\n",
    "    if caracter == ' ' or counter==len(encripted_w):\n",
    "        encripted_w.split()\n",
    "        builder = builder.replace(\" \", \"\")            # ---> se generaban espacios innecesesarios por cada caracter.\n",
    "        lista_letras.append(builder)\n",
    "        builder = ''\n",
    "print(lista_letras)\n",
    "\n",
    "lista_definitiva= [ morse_dic.get(letra) for letra in lista_letras]\n",
    "\n",
    "print(lista_definitiva)\n",
    "\n",
    "print(''.join(lista_definitiva))\n",
    "   \n",
    "    "
   ]
  },
  {
   "cell_type": "code",
   "execution_count": 3,
   "id": "b1632856",
   "metadata": {},
   "outputs": [
    {
     "name": "stdout",
     "output_type": "stream",
     "text": [
      "Ingrese las palabras en código morse que desea desencriptar separadas por '/': .--. .-. --- --. .-. .- -- .- -.-. .. --- -./.--. .-. --- --. .-. .- -- .- -.-. .. --- -.\n",
      "PROGRAMACION PROGRAMACION\n"
     ]
    }
   ],
   "source": [
    "# DESAFÍO EXTRA\n",
    "#Diseñé uno para varias palabras:\n",
    "\n",
    "morse_code = {'.-': 'A', '-...': 'B', '-.-.': 'C', '-..': 'D', '.': 'E', \n",
    "              '..-.': 'F', '--.': 'G', '....': 'H', '..': 'I', '.---': 'J', \n",
    "              '-.-': 'K', '.-..': 'L', '--': 'M', '-.': 'N', '---': 'O', \n",
    "              '.--.': 'P', '--.-': 'Q', '.-.': 'R', '...': 'S', '-': 'T', \n",
    "              '..-': 'U', '...-': 'V', '.--': 'W', '-..-': 'X', '-.--': 'Y', \n",
    "              '--..': 'Z', \" \": \" \"}\n",
    "#Se agregó el \"espacio\" al diccionario para poder interpretarlo en el segundo for.\n",
    "\n",
    "frase = input(\"Ingrese las palabras en código morse que desea desencriptar separadas por '/': \")\n",
    "\n",
    "\n",
    "for letra in frase:\n",
    "    frase = frase.replace(\"/\", \" \\\\n \")             # Los espacios adelante y atras son esenciales para que el método split \n",
    "    letras= frase.split()                           # no junte el caracter con los demas que sí son traducidos.\n",
    "\n",
    "#print(letras)\n",
    "\n",
    "for i in range(len(letras)):\n",
    "    if letras[i] == \"\\\\n\":\n",
    "        letras[i] = \" \"\n",
    "    letras[i] = morse_code[letras[i]]\n",
    "\n",
    "#print(letras)  \n",
    "print( ''.join(letras) )"
   ]
  },
  {
   "cell_type": "code",
   "execution_count": 8,
   "id": "6b369548",
   "metadata": {},
   "outputs": [
    {
     "name": "stdout",
     "output_type": "stream",
     "text": [
      "Ingrese la palabra en código morse que desea decriptar: .--. .-. --- --. .-. .- -- .- -.-. .. --- -.\n",
      "PROGRAMACION\n"
     ]
    }
   ],
   "source": [
    "#Recordar que el método .split() genera una lista automáticamente.\n",
    "morse_code = {'.-': 'A', '-...': 'B', '-.-.': 'C', '-..': 'D', '.': 'E', \n",
    "              '..-.': 'F', '--.': 'G', '....': 'H', '..': 'I', '.---': 'J', \n",
    "              '-.-': 'K', '.-..': 'L', '--': 'M', '-.': 'N', '---': 'O', \n",
    "              '.--.': 'P', '--.-': 'Q', '.-.': 'R', '...': 'S', '-': 'T', \n",
    "              '..-': 'U', '...-': 'V', '.--': 'W', '-..-': 'X', '-.--': 'Y', \n",
    "              '--..': 'Z'}\n",
    "\n",
    "frase = input(\"Ingrese la palabra en código morse que desea desencriptar: \")\n",
    "\n",
    "letras = frase.split()\n",
    "\n",
    "#print(letras)\n",
    "\n",
    "for i in range(len(letras)):\n",
    "  letras[i] = morse_code[letras[i]]\n",
    "\n",
    "print( ''.join(letras) )"
   ]
  }
 ],
 "metadata": {
  "kernelspec": {
   "display_name": "Python 3 (ipykernel)",
   "language": "python",
   "name": "python3"
  },
  "language_info": {
   "codemirror_mode": {
    "name": "ipython",
    "version": 3
   },
   "file_extension": ".py",
   "mimetype": "text/x-python",
   "name": "python",
   "nbconvert_exporter": "python",
   "pygments_lexer": "ipython3",
   "version": "3.11.1"
  }
 },
 "nbformat": 4,
 "nbformat_minor": 5
}
