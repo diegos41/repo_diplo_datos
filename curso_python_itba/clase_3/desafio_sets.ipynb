{
 "cells": [
  {
   "cell_type": "code",
   "execution_count": 1,
   "id": "96c1e77c",
   "metadata": {},
   "outputs": [
    {
     "name": "stdout",
     "output_type": "stream",
     "text": [
      "Set x = {1, 2, 3, 4, 7}\n"
     ]
    }
   ],
   "source": [
    "x = {1, 2, 3, 4, 7, 7, 7, 7, 7, 7}   # Los sets no admiten elementos repetidos\n",
    "print(\"Set x =\", x)\n",
    "     "
   ]
  },
  {
   "cell_type": "code",
   "execution_count": 2,
   "id": "c52001a0",
   "metadata": {
    "scrolled": true
   },
   "outputs": [
    {
     "name": "stdout",
     "output_type": "stream",
     "text": [
      "{1, 2, 3, 4, 7, 'hola'}\n"
     ]
    }
   ],
   "source": [
    "x = {1, 2, 3, 4, 7}\n",
    "x.add(\"hola\")\n",
    "print(x)"
   ]
  },
  {
   "cell_type": "code",
   "execution_count": 15,
   "id": "91bba49e",
   "metadata": {},
   "outputs": [
    {
     "name": "stdout",
     "output_type": "stream",
     "text": [
      "A {'Marina'} le gustan todos los sabores.\n",
      "A {'Juan', 'Tomas'} le/les gusta el sabor vainilla, pero no el chocolate.\n",
      "Cantidad de encuestados: 6\n"
     ]
    }
   ],
   "source": [
    "# DESAFÍO 1\n",
    "\n",
    "vainilla = { \"Juan\", \"Marina\", \"Tomas\", \"Paula\" }\n",
    "chocolate = { \"Pedro\", \"Paula\", \"Marina\" }\n",
    "dulceDeLeche = { \"Juan\", \"Julian\", \"Pedro\", \"Marina\" }\n",
    "\n",
    "todos_los_sabores = vainilla & chocolate & dulceDeLeche\n",
    "vainilla_pero_no_chocolate = vainilla - chocolate\n",
    "total_participantes = vainilla | chocolate | dulceDeLeche\n",
    "\n",
    "\n",
    "print(f\"A {todos_los_sabores} le gustan todos los sabores.\")\n",
    "print(f\"A {vainilla_pero_no_chocolate} le/les gusta el sabor vainilla, pero no el chocolate.\")\n",
    "print(f\"Cantidad de encuestados: {len(total_participantes)}\")"
   ]
  },
  {
   "cell_type": "code",
   "execution_count": 29,
   "id": "0629193d",
   "metadata": {
    "scrolled": true
   },
   "outputs": [
    {
     "name": "stdout",
     "output_type": "stream",
     "text": [
      "Ingrese la frase para saber si es un pangrama en el idioma inglés: the quick brown fox jumps over the lazy dog\n",
      "La frase 'the quick brown fox jumps over the lazy dog' es un pangrama en inglés.\n"
     ]
    }
   ],
   "source": [
    "#DESAFÍO 2\n",
    "\n",
    "letras = set(\"abcdefghijklmnopqrstuvwxyz\")\n",
    "\n",
    "frase= input('Ingrese la frase para saber si es un pangrama en el idioma inglés: ')\n",
    " \n",
    "set_frase=set()                                  # ---> Si uso {} se asume que es un diccionario vacío en vez de un set.\n",
    "\n",
    "for palabra in frase:\n",
    "    if palabra.isalpha():\n",
    "        set_frase.add(palabra)\n",
    "\n",
    "#print(set_frase)\n",
    "\n",
    "if letras & set_frase == letras:\n",
    "    print(f\"La frase '{frase}' es un pangrama en inglés.\")\n",
    "else:\n",
    "    print(f\"La frase {frase} NO es un pangrama en inglés.\")\n",
    "\n"
   ]
  },
  {
   "cell_type": "code",
   "execution_count": 27,
   "id": "2c4a1b19",
   "metadata": {
    "scrolled": true
   },
   "outputs": [
    {
     "name": "stdout",
     "output_type": "stream",
     "text": [
      "Ingrese una frase: the quick brown fox jumps over the lazy dog\n",
      "La frase es un pangrama del idioma inglés!\n",
      "{'e', 'u', 'i', 'c', 'n', 'q', 'w', 'v', 'b', 'r', 's', 'j', 'z', 'o', 'y', 'g', 'k', 'p', 'a', 't', 'x', 'l', 'f', ' ', 'm', 'd', 'h'}\n"
     ]
    }
   ],
   "source": [
    "#Solución propuesta. \n",
    "#Ignora espacios y signos de puntuación para la respuesta, pero los almacena innecesariamente en el set.\n",
    "\n",
    "letras = set(\"abcdefghijklmnopqrstuvwxyz\")\n",
    "\n",
    "frase = input(\"Ingrese una frase: \")\n",
    "\n",
    "if letras.issubset( set(frase) ):\n",
    "  print(\"La frase es un pangrama del idioma inglés!\")\n",
    "else:\n",
    "  print(\"La frase no es un pangrama.\")\n",
    "\n",
    "print(set(frase))"
   ]
  }
 ],
 "metadata": {
  "kernelspec": {
   "display_name": "Python 3 (ipykernel)",
   "language": "python",
   "name": "python3"
  },
  "language_info": {
   "codemirror_mode": {
    "name": "ipython",
    "version": 3
   },
   "file_extension": ".py",
   "mimetype": "text/x-python",
   "name": "python",
   "nbconvert_exporter": "python",
   "pygments_lexer": "ipython3",
   "version": "3.11.1"
  }
 },
 "nbformat": 4,
 "nbformat_minor": 5
}
